{
  "nbformat": 4,
  "nbformat_minor": 0,
  "metadata": {
    "colab": {
      "name": "maintenance_predict",
      "provenance": [],
      "collapsed_sections": [],
      "authorship_tag": "ABX9TyN9rdD+vnc351BnUaEWm56l"
    },
    "kernelspec": {
      "name": "python3",
      "display_name": "Python 3"
    }
  },
  "cells": [
    {
      "cell_type": "code",
      "metadata": {
        "id": "DSV7i8jeWPeX"
      },
      "source": [
        "#import libraries\n",
        "from datetime import datetime, timedelta,date\n",
        "import pandas as pd\n",
        "%matplotlib inline\n",
        "from sklearn.metrics import classification_report,confusion_matrix\n",
        "import matplotlib.pyplot as plt\n",
        "import numpy as np\n",
        "import seaborn as sns\n",
        "from __future__ import division\n",
        "from sklearn.cluster import KMeans\n",
        "\n",
        "#do not show warnings\n",
        "import warnings\n",
        "warnings.filterwarnings(\"ignore\")\n",
        "\n",
        "#import plotly for visualization\n",
        "import plotly.offline as pyoff\n",
        "import plotly.graph_objs as go"
      ],
      "execution_count": 1,
      "outputs": []
    },
    {
      "cell_type": "code",
      "metadata": {
        "id": "8HBzcliF5dLz"
      },
      "source": [
        "#import the csv\n",
        "mntnc_data = pd.read_csv('/content/maintenance_history_data_with_null.csv')"
      ],
      "execution_count": 2,
      "outputs": []
    },
    {
      "cell_type": "code",
      "metadata": {
        "id": "YY7MVMDSKzpF",
        "outputId": "620d2344-5b3d-4913-b67b-80cdeb8675a4",
        "colab": {
          "base_uri": "https://localhost:8080/",
          "height": 204
        }
      },
      "source": [
        "mntnc_data.head()"
      ],
      "execution_count": 51,
      "outputs": [
        {
          "output_type": "execute_result",
          "data": {
            "text/html": [
              "<div>\n",
              "<style scoped>\n",
              "    .dataframe tbody tr th:only-of-type {\n",
              "        vertical-align: middle;\n",
              "    }\n",
              "\n",
              "    .dataframe tbody tr th {\n",
              "        vertical-align: top;\n",
              "    }\n",
              "\n",
              "    .dataframe thead th {\n",
              "        text-align: right;\n",
              "    }\n",
              "</style>\n",
              "<table border=\"1\" class=\"dataframe\">\n",
              "  <thead>\n",
              "    <tr style=\"text-align: right;\">\n",
              "      <th></th>\n",
              "      <th>ASSET_ID</th>\n",
              "      <th>ASSET_TYPE</th>\n",
              "      <th>ASSET_CLASSIFICATION</th>\n",
              "      <th>MANUFACTURER_NAME</th>\n",
              "      <th>MODEL_NUMBER</th>\n",
              "      <th>ASSET_MAINTENANCE_DATE</th>\n",
              "    </tr>\n",
              "  </thead>\n",
              "  <tbody>\n",
              "    <tr>\n",
              "      <th>0</th>\n",
              "      <td>1735</td>\n",
              "      <td>Early Smoke Detection</td>\n",
              "      <td>Mechanical</td>\n",
              "      <td>NaN</td>\n",
              "      <td>NaN</td>\n",
              "      <td>2020-05-20 11:05:00</td>\n",
              "    </tr>\n",
              "    <tr>\n",
              "      <th>1</th>\n",
              "      <td>2283</td>\n",
              "      <td>Makeup Air Unit</td>\n",
              "      <td>Mechanical</td>\n",
              "      <td>MUNTERS</td>\n",
              "      <td>NA2005/16</td>\n",
              "      <td>2018-08-01 09:01:00</td>\n",
              "    </tr>\n",
              "    <tr>\n",
              "      <th>2</th>\n",
              "      <td>1738</td>\n",
              "      <td>Early Smoke Detection</td>\n",
              "      <td>Mechanical</td>\n",
              "      <td>NaN</td>\n",
              "      <td>NaN</td>\n",
              "      <td>2020-05-20 11:05:00</td>\n",
              "    </tr>\n",
              "    <tr>\n",
              "      <th>3</th>\n",
              "      <td>1740</td>\n",
              "      <td>Early Smoke Detection</td>\n",
              "      <td>Mechanical</td>\n",
              "      <td>NaN</td>\n",
              "      <td>NaN</td>\n",
              "      <td>2020-05-20 11:05:00</td>\n",
              "    </tr>\n",
              "    <tr>\n",
              "      <th>4</th>\n",
              "      <td>1741</td>\n",
              "      <td>Early Smoke Detection</td>\n",
              "      <td>Mechanical</td>\n",
              "      <td>NaN</td>\n",
              "      <td>NaN</td>\n",
              "      <td>2020-05-20 11:05:00</td>\n",
              "    </tr>\n",
              "  </tbody>\n",
              "</table>\n",
              "</div>"
            ],
            "text/plain": [
              "   ASSET_ID             ASSET_TYPE  ... MODEL_NUMBER ASSET_MAINTENANCE_DATE\n",
              "0      1735  Early Smoke Detection  ...          NaN    2020-05-20 11:05:00\n",
              "1      2283        Makeup Air Unit  ...    NA2005/16    2018-08-01 09:01:00\n",
              "2      1738  Early Smoke Detection  ...          NaN    2020-05-20 11:05:00\n",
              "3      1740  Early Smoke Detection  ...          NaN    2020-05-20 11:05:00\n",
              "4      1741  Early Smoke Detection  ...          NaN    2020-05-20 11:05:00\n",
              "\n",
              "[5 rows x 6 columns]"
            ]
          },
          "metadata": {
            "tags": []
          },
          "execution_count": 51
        }
      ]
    },
    {
      "cell_type": "code",
      "metadata": {
        "id": "r8aATkk8-qdF"
      },
      "source": [
        "#Drop null value rows\n",
        "mntnc_data = mntnc_data.dropna(subset=['ASSET_MAINTENANCE_DATE'])"
      ],
      "execution_count": 3,
      "outputs": []
    },
    {
      "cell_type": "code",
      "metadata": {
        "id": "Pns-Zkyk_AFD"
      },
      "source": [
        "# import labelencoder\n",
        "from sklearn.preprocessing import LabelEncoder\n",
        "# instantiate labelencoder object\n",
        "le = LabelEncoder()\n",
        "\n",
        "#convert the asset id to numeric\n",
        "nonnumric_cols = ['ASSET_ID']\n",
        "mntnc_data[nonnumric_cols] = mntnc_data[nonnumric_cols].apply(lambda col: le.fit_transform(col))\n",
        "\n",
        "#convert date field from string to datetime\n",
        "mntnc_data['ASSET_MAINTENANCE_DATE'] = pd.to_datetime(mntnc_data['ASSET_MAINTENANCE_DATE'])"
      ],
      "execution_count": 4,
      "outputs": []
    },
    {
      "cell_type": "code",
      "metadata": {
        "id": "wij0YZHK9u4s",
        "outputId": "6fde1bf7-4541-4d40-dc6d-6e840d8ad199",
        "colab": {
          "base_uri": "https://localhost:8080/",
          "height": 337
        }
      },
      "source": [
        "fig = plt.figure(figsize = (20,5))\n",
        "ax = fig.gca()\n",
        "mntnc_data.ASSET_MAINTENANCE_DATE.hist(ax=ax)"
      ],
      "execution_count": 123,
      "outputs": [
        {
          "output_type": "execute_result",
          "data": {
            "text/plain": [
              "<matplotlib.axes._subplots.AxesSubplot at 0x7f833ab90da0>"
            ]
          },
          "metadata": {
            "tags": []
          },
          "execution_count": 123
        },
        {
          "output_type": "display_data",
          "data": {
            "image/png": "[encoded data removed]",
            "text/plain": [
              "<Figure size 1440x360 with 1 Axes>"
            ]
          },
          "metadata": {
            "tags": [],
            "needs_background": "light"
          }
        }
      ]
    },
    {
      "cell_type": "code",
      "metadata": {
        "id": "9OPjXuVjADFi",
        "outputId": "a3a61e7d-f6f7-4409-b80e-578081f9839c",
        "colab": {
          "base_uri": "https://localhost:8080/",
          "height": 136
        }
      },
      "source": [
        "mntnc_data.ASSET_MAINTENANCE_DATE.describe()"
      ],
      "execution_count": 122,
      "outputs": [
        {
          "output_type": "execute_result",
          "data": {
            "text/plain": [
              "count                   23150\n",
              "unique                   1552\n",
              "top       2020-03-22 12:03:00\n",
              "freq                      702\n",
              "first     2017-10-30 06:10:00\n",
              "last      2020-12-06 12:06:00\n",
              "Name: ASSET_MAINTENANCE_DATE, dtype: object"
            ]
          },
          "metadata": {
            "tags": []
          },
          "execution_count": 122
        }
      ]
    },
    {
      "cell_type": "code",
      "metadata": {
        "id": "3Cx6zPnjA3Qm",
        "cellView": "code"
      },
      "source": [
        "#@title Default title text\n",
        "mntnc_2y = mntnc_data[(mntnc_data.ASSET_MAINTENANCE_DATE < pd.to_datetime('2020/5/30')) & (mntnc_data.ASSET_MAINTENANCE_DATE >= pd.to_datetime('2017/10/1'))].reset_index(drop=True)\n",
        "mntnc_6M = mntnc_data[(mntnc_data.ASSET_MAINTENANCE_DATE >= pd.to_datetime('2020/5/30')) & (mntnc_data.ASSET_MAINTENANCE_DATE < pd.to_datetime('2020/12/30'))].reset_index(drop=True)\n"
      ],
      "execution_count": 5,
      "outputs": []
    },
    {
      "cell_type": "code",
      "metadata": {
        "id": "tJM7merqBT-R",
        "outputId": "66bd2de0-6dbf-4141-cb4c-ae6253416db6",
        "colab": {
          "base_uri": "https://localhost:8080/",
          "height": 136
        }
      },
      "source": [
        "mntnc_6M.ASSET_MAINTENANCE_DATE.describe()"
      ],
      "execution_count": 127,
      "outputs": [
        {
          "output_type": "execute_result",
          "data": {
            "text/plain": [
              "count                    6508\n",
              "unique                    463\n",
              "top       2020-06-20 01:06:00\n",
              "freq                      122\n",
              "first     2020-05-30 02:05:00\n",
              "last      2020-12-06 12:06:00\n",
              "Name: ASSET_MAINTENANCE_DATE, dtype: object"
            ]
          },
          "metadata": {
            "tags": []
          },
          "execution_count": 127
        }
      ]
    },
    {
      "cell_type": "code",
      "metadata": {
        "id": "l6F1xXbJBL8M"
      },
      "source": [
        "def df_histogram(col):\n",
        "    fig = plt.figure(figsize = (20,5))\n",
        "    ax = fig.gca()\n",
        "    return col.hist(ax=ax)"
      ],
      "execution_count": 136,
      "outputs": []
    },
    {
      "cell_type": "code",
      "metadata": {
        "id": "DTG_4vEcClO0",
        "outputId": "7f13e128-0f40-44ee-8bf5-286d3b13d64a",
        "colab": {
          "base_uri": "https://localhost:8080/",
          "height": 337
        }
      },
      "source": [
        "df_histogram(mntnc_6M.ASSET_MAINTENANCE_DATE)"
      ],
      "execution_count": 138,
      "outputs": [
        {
          "output_type": "execute_result",
          "data": {
            "text/plain": [
              "<matplotlib.axes._subplots.AxesSubplot at 0x7f833a97cbe0>"
            ]
          },
          "metadata": {
            "tags": []
          },
          "execution_count": 138
        },
        {
          "output_type": "display_data",
          "data": {
            "image/png": "[encoded data removed]",
            "text/plain": [
              "<Figure size 1440x360 with 1 Axes>"
            ]
          },
          "metadata": {
            "tags": [],
            "needs_background": "light"
          }
        }
      ]
    },
    {
      "cell_type": "code",
      "metadata": {
        "id": "Htq5QiEVp_pO",
        "cellView": "code"
      },
      "source": [
        "assets_data = pd.DataFrame(mntnc_2y['ASSET_ID'].unique())\n",
        "assets_data.columns = ['ASSET_ID']\n",
        "\n",
        "#create a dataframe with asset id and recent maintenance data in mntnc_6M\n",
        "tx_next_recent_maintenance = mntnc_6M.groupby('ASSET_ID').ASSET_MAINTENANCE_DATE.min().reset_index()\n",
        "tx_next_recent_maintenance.columns = ['ASSET_ID','MinMaintenanceDate']\n",
        "\n",
        "#create a dataframe with asset id and last maintenance date in mntnc_2y\n",
        "tx_last_maintenance = mntnc_2y.groupby('ASSET_ID').ASSET_MAINTENANCE_DATE.max().reset_index()\n",
        "tx_last_maintenance.columns = ['ASSET_ID','MaxMaintenanceDate']\n",
        "\n",
        "#merge two dataframes\n",
        "tx_maintenance_dates = pd.merge(tx_last_maintenance,tx_next_recent_maintenance,on='ASSET_ID',how='left')\n",
        "\n",
        "#calculate the time difference in days:\n",
        "tx_maintenance_dates['NextMaintenanceDay'] = (tx_maintenance_dates['MinMaintenanceDate'] - tx_maintenance_dates['MaxMaintenanceDate']).dt.days\n",
        "\n",
        "#merge with assets_data \n",
        "assets_data = pd.merge(assets_data, tx_maintenance_dates[['ASSET_ID','NextMaintenanceDay']],on='ASSET_ID',how='left')\n",
        "\n",
        "#fill NA values with 999\n",
        "assets_data = assets_data.fillna(999)"
      ],
      "execution_count": 6,
      "outputs": []
    },
    {
      "cell_type": "code",
      "metadata": {
        "id": "Sy3KUKR4CuFo",
        "outputId": "26764142-fa55-4e4c-93df-95b3c2e43ac3",
        "colab": {
          "base_uri": "https://localhost:8080/",
          "height": 337
        }
      },
      "source": [
        "df_histogram(assets_data.NextMaintenanceDay)"
      ],
      "execution_count": 137,
      "outputs": [
        {
          "output_type": "execute_result",
          "data": {
            "text/plain": [
              "<matplotlib.axes._subplots.AxesSubplot at 0x7f833aa12f28>"
            ]
          },
          "metadata": {
            "tags": []
          },
          "execution_count": 137
        },
        {
          "output_type": "display_data",
          "data": {
            "image/png": "[encoded data removed]",
            "text/plain": [
              "<Figure size 1440x360 with 1 Axes>"
            ]
          },
          "metadata": {
            "tags": [],
            "needs_background": "light"
          }
        }
      ]
    },
    {
      "cell_type": "code",
      "metadata": {
        "id": "2UCqaJkzGTnf",
        "outputId": "6662fd39-84ba-4a59-cc38-7fc1feaa264f",
        "colab": {
          "base_uri": "https://localhost:8080/",
          "height": 170
        }
      },
      "source": [
        "assets_data.NextMaintenanceDay.describe()"
      ],
      "execution_count": 139,
      "outputs": [
        {
          "output_type": "execute_result",
          "data": {
            "text/plain": [
              "count    6178.000000\n",
              "mean      711.948365\n",
              "std       417.323276\n",
              "min         0.000000\n",
              "25%       185.000000\n",
              "50%       999.000000\n",
              "75%       999.000000\n",
              "max       999.000000\n",
              "Name: NextMaintenanceDay, dtype: float64"
            ]
          },
          "metadata": {
            "tags": []
          },
          "execution_count": 139
        }
      ]
    },
    {
      "cell_type": "markdown",
      "metadata": {
        "id": "omAeDf5AgQ17"
      },
      "source": [
        "**Recency - Frequency** calculation\n",
        "\n",
        "Recently getting maintained \n",
        "Frequently getting maintained"
      ]
    },
    {
      "cell_type": "code",
      "metadata": {
        "id": "FnxQeYX1NMc5"
      },
      "source": [
        "#get max maintenance date for Recency and create a dataframe\n",
        "tx_max_maintenance = mntnc_2y.groupby('ASSET_ID').ASSET_MAINTENANCE_DATE.max().reset_index()\n",
        "tx_max_maintenance.columns = ['ASSET_ID','MaxMaintenanceDate']\n",
        "\n",
        "#find the recency in days and add it to assets_data\n",
        "tx_max_maintenance['Recency'] = (tx_max_maintenance['MaxMaintenanceDate'].max() - tx_max_maintenance['MaxMaintenanceDate']).dt.days\n",
        "assets_data = pd.merge(assets_data, tx_max_maintenance[['ASSET_ID','Recency']], on='ASSET_ID')"
      ],
      "execution_count": 7,
      "outputs": []
    },
    {
      "cell_type": "code",
      "metadata": {
        "id": "HSwYxBKkADjQ",
        "outputId": "c7936a90-17bd-4398-f9d1-03e443986875",
        "colab": {
          "base_uri": "https://localhost:8080/",
          "height": 337
        }
      },
      "source": [
        "df_histogram(tx_max_maintenance.Recency)"
      ],
      "execution_count": 144,
      "outputs": [
        {
          "output_type": "execute_result",
          "data": {
            "text/plain": [
              "<matplotlib.axes._subplots.AxesSubplot at 0x7f8342d11a58>"
            ]
          },
          "metadata": {
            "tags": []
          },
          "execution_count": 144
        },
        {
          "output_type": "display_data",
          "data": {
            "image/png": "[encoded data removed]",
            "text/plain": [
              "<Figure size 1440x360 with 1 Axes>"
            ]
          },
          "metadata": {
            "tags": [],
            "needs_background": "light"
          }
        }
      ]
    },
    {
      "cell_type": "code",
      "metadata": {
        "id": "NaVFDNXtQ83E",
        "outputId": "367499d5-218c-4980-fe5e-4554530fe11c",
        "colab": {
          "base_uri": "https://localhost:8080/",
          "height": 290
        }
      },
      "source": [
        "#plot the Recency \n",
        "from sklearn.cluster import KMeans\n",
        "\n",
        "\n",
        "sse={}\n",
        "tx_recency = assets_data[['Recency']]\n",
        "for k in range(1, 10):\n",
        "    kmeans = KMeans(n_clusters=k, max_iter=1000).fit(tx_recency)\n",
        "    tx_recency[\"clusters\"] = kmeans.labels_\n",
        "    sse[k] = kmeans.inertia_ \n",
        "plt.figure()\n",
        "plt.plot(list(sse.keys()), list(sse.values()))\n",
        "plt.xlabel(\"Number of cluster\")\n",
        "plt.show()"
      ],
      "execution_count": 8,
      "outputs": [
        {
          "output_type": "display_data",
          "data": {
            "image/png": "[encoded data removed]",
            "text/plain": [
              "<Figure size 432x288 with 1 Axes>"
            ]
          },
          "metadata": {
            "tags": [],
            "needs_background": "light"
          }
        }
      ]
    },
    {
      "cell_type": "code",
      "metadata": {
        "id": "zUXzv_rTW8yp"
      },
      "source": [
        "#clustering for Recency\n",
        "kmeans = KMeans(n_clusters=4)\n",
        "kmeans.fit(assets_data[['Recency']])\n",
        "assets_data['RecencyCluster'] = kmeans.predict(assets_data[['Recency']])"
      ],
      "execution_count": 9,
      "outputs": []
    },
    {
      "cell_type": "code",
      "metadata": {
        "id": "s2SO9J-cYtl9",
        "outputId": "66a7efe6-373b-4359-c87a-87b3d1990e88",
        "colab": {
          "base_uri": "https://localhost:8080/",
          "height": 235
        }
      },
      "source": [
        "assets_data.groupby('RecencyCluster')['Recency'].describe()"
      ],
      "execution_count": 146,
      "outputs": [
        {
          "output_type": "execute_result",
          "data": {
            "text/html": [
              "<div>\n",
              "<style scoped>\n",
              "    .dataframe tbody tr th:only-of-type {\n",
              "        vertical-align: middle;\n",
              "    }\n",
              "\n",
              "    .dataframe tbody tr th {\n",
              "        vertical-align: top;\n",
              "    }\n",
              "\n",
              "    .dataframe thead th {\n",
              "        text-align: right;\n",
              "    }\n",
              "</style>\n",
              "<table border=\"1\" class=\"dataframe\">\n",
              "  <thead>\n",
              "    <tr style=\"text-align: right;\">\n",
              "      <th></th>\n",
              "      <th>count</th>\n",
              "      <th>mean</th>\n",
              "      <th>std</th>\n",
              "      <th>min</th>\n",
              "      <th>25%</th>\n",
              "      <th>50%</th>\n",
              "      <th>75%</th>\n",
              "      <th>max</th>\n",
              "    </tr>\n",
              "    <tr>\n",
              "      <th>RecencyCluster</th>\n",
              "      <th></th>\n",
              "      <th></th>\n",
              "      <th></th>\n",
              "      <th></th>\n",
              "      <th></th>\n",
              "      <th></th>\n",
              "      <th></th>\n",
              "      <th></th>\n",
              "    </tr>\n",
              "  </thead>\n",
              "  <tbody>\n",
              "    <tr>\n",
              "      <th>0</th>\n",
              "      <td>2666.0</td>\n",
              "      <td>13.878470</td>\n",
              "      <td>14.398804</td>\n",
              "      <td>0.0</td>\n",
              "      <td>1.0</td>\n",
              "      <td>9.0</td>\n",
              "      <td>25.0</td>\n",
              "      <td>46.0</td>\n",
              "    </tr>\n",
              "    <tr>\n",
              "      <th>1</th>\n",
              "      <td>1081.0</td>\n",
              "      <td>221.164662</td>\n",
              "      <td>37.041102</td>\n",
              "      <td>154.0</td>\n",
              "      <td>193.0</td>\n",
              "      <td>217.0</td>\n",
              "      <td>260.0</td>\n",
              "      <td>300.0</td>\n",
              "    </tr>\n",
              "    <tr>\n",
              "      <th>2</th>\n",
              "      <td>159.0</td>\n",
              "      <td>381.031447</td>\n",
              "      <td>66.513387</td>\n",
              "      <td>303.0</td>\n",
              "      <td>328.0</td>\n",
              "      <td>355.0</td>\n",
              "      <td>446.0</td>\n",
              "      <td>509.0</td>\n",
              "    </tr>\n",
              "    <tr>\n",
              "      <th>3</th>\n",
              "      <td>85.0</td>\n",
              "      <td>773.941176</td>\n",
              "      <td>48.534561</td>\n",
              "      <td>654.0</td>\n",
              "      <td>749.0</td>\n",
              "      <td>793.0</td>\n",
              "      <td>793.0</td>\n",
              "      <td>942.0</td>\n",
              "    </tr>\n",
              "    <tr>\n",
              "      <th>4</th>\n",
              "      <td>2187.0</td>\n",
              "      <td>79.433928</td>\n",
              "      <td>22.999336</td>\n",
              "      <td>52.0</td>\n",
              "      <td>67.0</td>\n",
              "      <td>68.0</td>\n",
              "      <td>92.0</td>\n",
              "      <td>149.0</td>\n",
              "    </tr>\n",
              "  </tbody>\n",
              "</table>\n",
              "</div>"
            ],
            "text/plain": [
              "                 count        mean        std  ...    50%    75%    max\n",
              "RecencyCluster                                 ...                     \n",
              "0               2666.0   13.878470  14.398804  ...    9.0   25.0   46.0\n",
              "1               1081.0  221.164662  37.041102  ...  217.0  260.0  300.0\n",
              "2                159.0  381.031447  66.513387  ...  355.0  446.0  509.0\n",
              "3                 85.0  773.941176  48.534561  ...  793.0  793.0  942.0\n",
              "4               2187.0   79.433928  22.999336  ...   68.0   92.0  149.0\n",
              "\n",
              "[5 rows x 8 columns]"
            ]
          },
          "metadata": {
            "tags": []
          },
          "execution_count": 146
        }
      ]
    },
    {
      "cell_type": "code",
      "metadata": {
        "id": "Ccl06Z7XZDox"
      },
      "source": [
        "#order cluster method\n",
        "def order_cluster(cluster_field_name, target_field_name,df,ascending):\n",
        "    new_cluster_field_name = 'new_' + cluster_field_name\n",
        "    df_new = df.groupby(cluster_field_name)[target_field_name].mean().reset_index()\n",
        "    df_new = df_new.sort_values(by=target_field_name,ascending=ascending).reset_index(drop=True)\n",
        "    df_new['index'] = df_new.index\n",
        "    df_final = pd.merge(df,df_new[[cluster_field_name,'index']], on=cluster_field_name)\n",
        "    df_final = df_final.drop([cluster_field_name],axis=1)\n",
        "    df_final = df_final.rename(columns={\"index\":cluster_field_name})\n",
        "    return df_final\n",
        "\n",
        "\n",
        "#order recency clusters\n",
        "assets_data = order_cluster('RecencyCluster', 'Recency',assets_data,False)"
      ],
      "execution_count": 10,
      "outputs": []
    },
    {
      "cell_type": "code",
      "metadata": {
        "id": "T-gtJwWQZaYr",
        "outputId": "65056336-a7f4-4c07-aa1c-5e6319c6887f",
        "colab": {
          "base_uri": "https://localhost:8080/",
          "height": 204
        }
      },
      "source": [
        "#print cluster characteristics\n",
        "assets_data.groupby('RecencyCluster')['Recency'].describe()"
      ],
      "execution_count": 11,
      "outputs": [
        {
          "output_type": "execute_result",
          "data": {
            "text/html": [
              "<div>\n",
              "<style scoped>\n",
              "    .dataframe tbody tr th:only-of-type {\n",
              "        vertical-align: middle;\n",
              "    }\n",
              "\n",
              "    .dataframe tbody tr th {\n",
              "        vertical-align: top;\n",
              "    }\n",
              "\n",
              "    .dataframe thead th {\n",
              "        text-align: right;\n",
              "    }\n",
              "</style>\n",
              "<table border=\"1\" class=\"dataframe\">\n",
              "  <thead>\n",
              "    <tr style=\"text-align: right;\">\n",
              "      <th></th>\n",
              "      <th>count</th>\n",
              "      <th>mean</th>\n",
              "      <th>std</th>\n",
              "      <th>min</th>\n",
              "      <th>25%</th>\n",
              "      <th>50%</th>\n",
              "      <th>75%</th>\n",
              "      <th>max</th>\n",
              "    </tr>\n",
              "    <tr>\n",
              "      <th>RecencyCluster</th>\n",
              "      <th></th>\n",
              "      <th></th>\n",
              "      <th></th>\n",
              "      <th></th>\n",
              "      <th></th>\n",
              "      <th></th>\n",
              "      <th></th>\n",
              "      <th></th>\n",
              "    </tr>\n",
              "  </thead>\n",
              "  <tbody>\n",
              "    <tr>\n",
              "      <th>0</th>\n",
              "      <td>108.0</td>\n",
              "      <td>716.657407</td>\n",
              "      <td>118.728085</td>\n",
              "      <td>480.0</td>\n",
              "      <td>654.0</td>\n",
              "      <td>749.0</td>\n",
              "      <td>793.0</td>\n",
              "      <td>942.0</td>\n",
              "    </tr>\n",
              "    <tr>\n",
              "      <th>1</th>\n",
              "      <td>1214.0</td>\n",
              "      <td>236.890445</td>\n",
              "      <td>57.980925</td>\n",
              "      <td>159.0</td>\n",
              "      <td>199.0</td>\n",
              "      <td>217.0</td>\n",
              "      <td>261.0</td>\n",
              "      <td>474.0</td>\n",
              "    </tr>\n",
              "    <tr>\n",
              "      <th>2</th>\n",
              "      <td>2190.0</td>\n",
              "      <td>79.536986</td>\n",
              "      <td>23.151481</td>\n",
              "      <td>52.0</td>\n",
              "      <td>67.0</td>\n",
              "      <td>68.0</td>\n",
              "      <td>92.0</td>\n",
              "      <td>155.0</td>\n",
              "    </tr>\n",
              "    <tr>\n",
              "      <th>3</th>\n",
              "      <td>2666.0</td>\n",
              "      <td>13.878470</td>\n",
              "      <td>14.398804</td>\n",
              "      <td>0.0</td>\n",
              "      <td>1.0</td>\n",
              "      <td>9.0</td>\n",
              "      <td>25.0</td>\n",
              "      <td>46.0</td>\n",
              "    </tr>\n",
              "  </tbody>\n",
              "</table>\n",
              "</div>"
            ],
            "text/plain": [
              "                 count        mean         std  ...    50%    75%    max\n",
              "RecencyCluster                                  ...                     \n",
              "0                108.0  716.657407  118.728085  ...  749.0  793.0  942.0\n",
              "1               1214.0  236.890445   57.980925  ...  217.0  261.0  474.0\n",
              "2               2190.0   79.536986   23.151481  ...   68.0   92.0  155.0\n",
              "3               2666.0   13.878470   14.398804  ...    9.0   25.0   46.0\n",
              "\n",
              "[4 rows x 8 columns]"
            ]
          },
          "metadata": {
            "tags": []
          },
          "execution_count": 11
        }
      ]
    },
    {
      "cell_type": "markdown",
      "metadata": {
        "id": "O7tAJXgCyKU4"
      },
      "source": [
        "**Frequency** of Maintenance calculation"
      ]
    },
    {
      "cell_type": "code",
      "metadata": {
        "id": "2nxBiVpMypoZ"
      },
      "source": [
        "#get total maintenance for frequency scores\n",
        "tx_matnce_frequency = mntnc_2y.groupby('ASSET_ID').ASSET_MAINTENANCE_DATE.count().reset_index()\n",
        "tx_matnce_frequency.columns = ['ASSET_ID','Frequency']\n"
      ],
      "execution_count": 12,
      "outputs": []
    },
    {
      "cell_type": "code",
      "metadata": {
        "id": "BgYm5aInB12Y",
        "outputId": "5f953602-0ded-42fb-ba56-53832b04c1f3",
        "colab": {
          "base_uri": "https://localhost:8080/",
          "height": 297
        }
      },
      "source": [
        "tx_matnce_frequency.describe()"
      ],
      "execution_count": 170,
      "outputs": [
        {
          "output_type": "execute_result",
          "data": {
            "text/html": [
              "<div>\n",
              "<style scoped>\n",
              "    .dataframe tbody tr th:only-of-type {\n",
              "        vertical-align: middle;\n",
              "    }\n",
              "\n",
              "    .dataframe tbody tr th {\n",
              "        vertical-align: top;\n",
              "    }\n",
              "\n",
              "    .dataframe thead th {\n",
              "        text-align: right;\n",
              "    }\n",
              "</style>\n",
              "<table border=\"1\" class=\"dataframe\">\n",
              "  <thead>\n",
              "    <tr style=\"text-align: right;\">\n",
              "      <th></th>\n",
              "      <th>ASSET_ID</th>\n",
              "      <th>Frequency</th>\n",
              "    </tr>\n",
              "  </thead>\n",
              "  <tbody>\n",
              "    <tr>\n",
              "      <th>count</th>\n",
              "      <td>6178.000000</td>\n",
              "      <td>6178.000000</td>\n",
              "    </tr>\n",
              "    <tr>\n",
              "      <th>mean</th>\n",
              "      <td>4027.494335</td>\n",
              "      <td>2.693752</td>\n",
              "    </tr>\n",
              "    <tr>\n",
              "      <th>std</th>\n",
              "      <td>2055.255839</td>\n",
              "      <td>4.611832</td>\n",
              "    </tr>\n",
              "    <tr>\n",
              "      <th>min</th>\n",
              "      <td>0.000000</td>\n",
              "      <td>1.000000</td>\n",
              "    </tr>\n",
              "    <tr>\n",
              "      <th>25%</th>\n",
              "      <td>2287.250000</td>\n",
              "      <td>1.000000</td>\n",
              "    </tr>\n",
              "    <tr>\n",
              "      <th>50%</th>\n",
              "      <td>4135.500000</td>\n",
              "      <td>1.000000</td>\n",
              "    </tr>\n",
              "    <tr>\n",
              "      <th>75%</th>\n",
              "      <td>5754.750000</td>\n",
              "      <td>3.000000</td>\n",
              "    </tr>\n",
              "    <tr>\n",
              "      <th>max</th>\n",
              "      <td>7664.000000</td>\n",
              "      <td>70.000000</td>\n",
              "    </tr>\n",
              "  </tbody>\n",
              "</table>\n",
              "</div>"
            ],
            "text/plain": [
              "          ASSET_ID    Frequency\n",
              "count  6178.000000  6178.000000\n",
              "mean   4027.494335     2.693752\n",
              "std    2055.255839     4.611832\n",
              "min       0.000000     1.000000\n",
              "25%    2287.250000     1.000000\n",
              "50%    4135.500000     1.000000\n",
              "75%    5754.750000     3.000000\n",
              "max    7664.000000    70.000000"
            ]
          },
          "metadata": {
            "tags": []
          },
          "execution_count": 170
        }
      ]
    },
    {
      "cell_type": "code",
      "metadata": {
        "id": "OJ8HDuwezt9Q"
      },
      "source": [
        "#add frequency column to assets_data\n",
        "assets_data = pd.merge(assets_data, tx_matnce_frequency, on='ASSET_ID')"
      ],
      "execution_count": 13,
      "outputs": []
    },
    {
      "cell_type": "code",
      "metadata": {
        "id": "PuzbEDkfz-7t",
        "outputId": "222f66fe-e57f-4dcc-bdd8-9d93698e72e0",
        "colab": {
          "base_uri": "https://localhost:8080/",
          "height": 279
        }
      },
      "source": [
        "sse={}\n",
        "tx_frequency = assets_data[['Frequency']]\n",
        "for k in range(1, 10):\n",
        "    kmeans = KMeans(n_clusters=k, max_iter=1000).fit(tx_frequency)\n",
        "    tx_frequency[\"clusters\"] = kmeans.labels_\n",
        "    sse[k] = kmeans.inertia_ \n",
        "plt.figure()\n",
        "plt.plot(list(sse.keys()), list(sse.values()))\n",
        "plt.xlabel(\"Number of cluster\")\n",
        "plt.show()"
      ],
      "execution_count": 14,
      "outputs": [
        {
          "output_type": "display_data",
          "data": {
            "image/png": "[encoded data removed]",
            "text/plain": [
              "<Figure size 432x288 with 1 Axes>"
            ]
          },
          "metadata": {
            "tags": [],
            "needs_background": "light"
          }
        }
      ]
    },
    {
      "cell_type": "code",
      "metadata": {
        "id": "LCFSFHzN7JE5"
      },
      "source": [
        "#clustering for frequency\n",
        "kmeans = KMeans(n_clusters=4)\n",
        "kmeans.fit(assets_data[['Frequency']])\n",
        "assets_data['FrequencyCluster'] = kmeans.predict(assets_data[['Frequency']])\n",
        "\n",
        "#order frequency clusters and show the characteristics\n",
        "assets_data = order_cluster('FrequencyCluster', 'Frequency',assets_data,True)"
      ],
      "execution_count": 15,
      "outputs": []
    },
    {
      "cell_type": "code",
      "metadata": {
        "id": "Qai__B5w8hSx",
        "outputId": "7b4fcc43-ebf0-475b-c078-43edf6ef39ca",
        "colab": {
          "base_uri": "https://localhost:8080/",
          "height": 204
        }
      },
      "source": [
        "assets_data.groupby('FrequencyCluster')['Frequency'].describe()"
      ],
      "execution_count": 175,
      "outputs": [
        {
          "output_type": "execute_result",
          "data": {
            "text/html": [
              "<div>\n",
              "<style scoped>\n",
              "    .dataframe tbody tr th:only-of-type {\n",
              "        vertical-align: middle;\n",
              "    }\n",
              "\n",
              "    .dataframe tbody tr th {\n",
              "        vertical-align: top;\n",
              "    }\n",
              "\n",
              "    .dataframe thead th {\n",
              "        text-align: right;\n",
              "    }\n",
              "</style>\n",
              "<table border=\"1\" class=\"dataframe\">\n",
              "  <thead>\n",
              "    <tr style=\"text-align: right;\">\n",
              "      <th></th>\n",
              "      <th>count</th>\n",
              "      <th>mean</th>\n",
              "      <th>std</th>\n",
              "      <th>min</th>\n",
              "      <th>25%</th>\n",
              "      <th>50%</th>\n",
              "      <th>75%</th>\n",
              "      <th>max</th>\n",
              "    </tr>\n",
              "    <tr>\n",
              "      <th>FrequencyCluster</th>\n",
              "      <th></th>\n",
              "      <th></th>\n",
              "      <th></th>\n",
              "      <th></th>\n",
              "      <th></th>\n",
              "      <th></th>\n",
              "      <th></th>\n",
              "      <th></th>\n",
              "    </tr>\n",
              "  </thead>\n",
              "  <tbody>\n",
              "    <tr>\n",
              "      <th>0</th>\n",
              "      <td>5421.0</td>\n",
              "      <td>1.557093</td>\n",
              "      <td>0.884844</td>\n",
              "      <td>1.0</td>\n",
              "      <td>1.00</td>\n",
              "      <td>1.0</td>\n",
              "      <td>2.0</td>\n",
              "      <td>4.0</td>\n",
              "    </tr>\n",
              "    <tr>\n",
              "      <th>1</th>\n",
              "      <td>630.0</td>\n",
              "      <td>7.426984</td>\n",
              "      <td>2.599419</td>\n",
              "      <td>5.0</td>\n",
              "      <td>6.00</td>\n",
              "      <td>6.0</td>\n",
              "      <td>9.0</td>\n",
              "      <td>15.0</td>\n",
              "    </tr>\n",
              "    <tr>\n",
              "      <th>2</th>\n",
              "      <td>113.0</td>\n",
              "      <td>23.761062</td>\n",
              "      <td>6.979913</td>\n",
              "      <td>16.0</td>\n",
              "      <td>19.00</td>\n",
              "      <td>21.0</td>\n",
              "      <td>29.0</td>\n",
              "      <td>40.0</td>\n",
              "    </tr>\n",
              "    <tr>\n",
              "      <th>3</th>\n",
              "      <td>14.0</td>\n",
              "      <td>59.785714</td>\n",
              "      <td>6.350997</td>\n",
              "      <td>52.0</td>\n",
              "      <td>54.25</td>\n",
              "      <td>59.5</td>\n",
              "      <td>64.0</td>\n",
              "      <td>70.0</td>\n",
              "    </tr>\n",
              "  </tbody>\n",
              "</table>\n",
              "</div>"
            ],
            "text/plain": [
              "                   count       mean       std   min    25%   50%   75%   max\n",
              "FrequencyCluster                                                            \n",
              "0                 5421.0   1.557093  0.884844   1.0   1.00   1.0   2.0   4.0\n",
              "1                  630.0   7.426984  2.599419   5.0   6.00   6.0   9.0  15.0\n",
              "2                  113.0  23.761062  6.979913  16.0  19.00  21.0  29.0  40.0\n",
              "3                   14.0  59.785714  6.350997  52.0  54.25  59.5  64.0  70.0"
            ]
          },
          "metadata": {
            "tags": []
          },
          "execution_count": 175
        }
      ]
    },
    {
      "cell_type": "code",
      "metadata": {
        "id": "0vfXaMyuzmtp"
      },
      "source": [
        "#building overall segmentation\n",
        "assets_data['OverallScore'] = assets_data['RecencyCluster'] + assets_data['FrequencyCluster']\n",
        "\n",
        "#assign segment names\n",
        "assets_data['Segment'] = 'Low-Maintenance'\n",
        "assets_data.loc[assets_data['OverallScore']>2,'Segment'] = 'Mid-Maintenance' \n",
        "assets_data.loc[assets_data['OverallScore']>4,'Segment'] = 'High-Maintenance'"
      ],
      "execution_count": 16,
      "outputs": []
    },
    {
      "cell_type": "code",
      "metadata": {
        "id": "FbHyP7uOHWGJ",
        "outputId": "a51632b0-f576-4339-aeff-b44cbdd2383d",
        "colab": {
          "base_uri": "https://localhost:8080/",
          "height": 309
        }
      },
      "source": [
        "assets_data.head()"
      ],
      "execution_count": 50,
      "outputs": [
        {
          "output_type": "execute_result",
          "data": {
            "text/html": [
              "<div>\n",
              "<style scoped>\n",
              "    .dataframe tbody tr th:only-of-type {\n",
              "        vertical-align: middle;\n",
              "    }\n",
              "\n",
              "    .dataframe tbody tr th {\n",
              "        vertical-align: top;\n",
              "    }\n",
              "\n",
              "    .dataframe thead th {\n",
              "        text-align: right;\n",
              "    }\n",
              "</style>\n",
              "<table border=\"1\" class=\"dataframe\">\n",
              "  <thead>\n",
              "    <tr style=\"text-align: right;\">\n",
              "      <th></th>\n",
              "      <th>ASSET_ID</th>\n",
              "      <th>NextMaintenanceDay</th>\n",
              "      <th>Recency</th>\n",
              "      <th>RecencyCluster</th>\n",
              "      <th>Frequency</th>\n",
              "      <th>FrequencyCluster</th>\n",
              "      <th>OverallScore</th>\n",
              "      <th>Segment</th>\n",
              "      <th>DayDiff</th>\n",
              "      <th>DayDiff2</th>\n",
              "      <th>DayDiff3</th>\n",
              "      <th>DayDiffMean</th>\n",
              "      <th>DayDiffStd</th>\n",
              "    </tr>\n",
              "  </thead>\n",
              "  <tbody>\n",
              "    <tr>\n",
              "      <th>0</th>\n",
              "      <td>7267</td>\n",
              "      <td>132.0</td>\n",
              "      <td>3</td>\n",
              "      <td>3</td>\n",
              "      <td>4</td>\n",
              "      <td>0</td>\n",
              "      <td>3</td>\n",
              "      <td>Mid-Maintenance</td>\n",
              "      <td>3.0</td>\n",
              "      <td>4.0</td>\n",
              "      <td>39.0</td>\n",
              "      <td>13.000000</td>\n",
              "      <td>19.078784</td>\n",
              "    </tr>\n",
              "    <tr>\n",
              "      <th>1</th>\n",
              "      <td>7376</td>\n",
              "      <td>41.0</td>\n",
              "      <td>2</td>\n",
              "      <td>3</td>\n",
              "      <td>4</td>\n",
              "      <td>0</td>\n",
              "      <td>3</td>\n",
              "      <td>Mid-Maintenance</td>\n",
              "      <td>14.0</td>\n",
              "      <td>23.0</td>\n",
              "      <td>729.0</td>\n",
              "      <td>243.000000</td>\n",
              "      <td>400.977555</td>\n",
              "    </tr>\n",
              "    <tr>\n",
              "      <th>2</th>\n",
              "      <td>7299</td>\n",
              "      <td>8.0</td>\n",
              "      <td>0</td>\n",
              "      <td>3</td>\n",
              "      <td>4</td>\n",
              "      <td>0</td>\n",
              "      <td>3</td>\n",
              "      <td>Mid-Maintenance</td>\n",
              "      <td>16.0</td>\n",
              "      <td>23.0</td>\n",
              "      <td>548.0</td>\n",
              "      <td>182.666667</td>\n",
              "      <td>296.503513</td>\n",
              "    </tr>\n",
              "    <tr>\n",
              "      <th>3</th>\n",
              "      <td>1667</td>\n",
              "      <td>999.0</td>\n",
              "      <td>0</td>\n",
              "      <td>3</td>\n",
              "      <td>4</td>\n",
              "      <td>0</td>\n",
              "      <td>3</td>\n",
              "      <td>Mid-Maintenance</td>\n",
              "      <td>4.0</td>\n",
              "      <td>5.0</td>\n",
              "      <td>34.0</td>\n",
              "      <td>11.333333</td>\n",
              "      <td>15.373137</td>\n",
              "    </tr>\n",
              "    <tr>\n",
              "      <th>4</th>\n",
              "      <td>1669</td>\n",
              "      <td>999.0</td>\n",
              "      <td>0</td>\n",
              "      <td>3</td>\n",
              "      <td>4</td>\n",
              "      <td>0</td>\n",
              "      <td>3</td>\n",
              "      <td>Mid-Maintenance</td>\n",
              "      <td>4.0</td>\n",
              "      <td>5.0</td>\n",
              "      <td>34.0</td>\n",
              "      <td>11.333333</td>\n",
              "      <td>15.373137</td>\n",
              "    </tr>\n",
              "  </tbody>\n",
              "</table>\n",
              "</div>"
            ],
            "text/plain": [
              "   ASSET_ID  NextMaintenanceDay  Recency  ...  DayDiff3  DayDiffMean  DayDiffStd\n",
              "0      7267               132.0        3  ...      39.0    13.000000   19.078784\n",
              "1      7376                41.0        2  ...     729.0   243.000000  400.977555\n",
              "2      7299                 8.0        0  ...     548.0   182.666667  296.503513\n",
              "3      1667               999.0        0  ...      34.0    11.333333   15.373137\n",
              "4      1669               999.0        0  ...      34.0    11.333333   15.373137\n",
              "\n",
              "[5 rows x 13 columns]"
            ]
          },
          "metadata": {
            "tags": []
          },
          "execution_count": 50
        }
      ]
    },
    {
      "cell_type": "code",
      "metadata": {
        "id": "OFyrUaUCnRiy"
      },
      "source": [
        "#create a dataframe with Asset ID and Maintenance Date\n",
        "mntnc_day_order = mntnc_2y[['ASSET_ID','ASSET_MAINTENANCE_DATE']]\n",
        "\n",
        "#convert Maintenance Datetime to day\n",
        "mntnc_day_order['MaintenanceDay'] = mntnc_2y['ASSET_MAINTENANCE_DATE'].dt.date\n",
        "mntnc_day_order = mntnc_day_order.sort_values(['ASSET_ID','MaintenanceDay'])\n",
        "\n",
        "#drop duplicates\n",
        "mntnc_day_order = mntnc_day_order.drop_duplicates(subset=['ASSET_ID','MaintenanceDay'],keep='first')\n",
        "\n",
        "#shifting last 3 Maintenance dates\n",
        "mntnc_day_order['PrevMaintenanceDate'] = mntnc_day_order.groupby('ASSET_ID')['MaintenanceDay'].shift(1)\n",
        "mntnc_day_order['T2MaintenanceDate'] = mntnc_day_order.groupby('ASSET_ID')['MaintenanceDay'].shift(2)\n",
        "mntnc_day_order['T3MaintenanceDate'] = mntnc_day_order.groupby('ASSET_ID')['MaintenanceDay'].shift(3)\n",
        "mntnc_day_order['DayDiff'] = (mntnc_day_order['MaintenanceDay'] - mntnc_day_order['PrevMaintenanceDate']).dt.days\n",
        "mntnc_day_order['DayDiff2'] = (mntnc_day_order['MaintenanceDay'] - mntnc_day_order['T2MaintenanceDate']).dt.days\n",
        "mntnc_day_order['DayDiff3'] = (mntnc_day_order['MaintenanceDay'] - mntnc_day_order['T3MaintenanceDate']).dt.days\n",
        "\n",
        "\n",
        "mntnc_day_diff = mntnc_day_order.groupby('ASSET_ID').agg({'DayDiff': ['mean','std']}).reset_index()\n",
        "mntnc_day_diff.columns = ['ASSET_ID', 'DayDiffMean','DayDiffStd']"
      ],
      "execution_count": 17,
      "outputs": []
    },
    {
      "cell_type": "code",
      "metadata": {
        "id": "2M05u5kTTFxK"
      },
      "source": [
        "mntnc_day_order_last = mntnc_day_order.drop_duplicates(subset=['ASSET_ID'],keep='last')\n",
        "\n",
        "mntnc_day_order_last = mntnc_day_order_last.dropna()\n",
        "mntnc_day_order_last = pd.merge(mntnc_day_order_last, mntnc_day_diff, on='ASSET_ID')\n",
        "\n",
        "assets_data = pd.merge(assets_data, mntnc_day_order_last[['ASSET_ID','DayDiff','DayDiff2','DayDiff3','DayDiffMean','DayDiffStd']], on='ASSET_ID')"
      ],
      "execution_count": 18,
      "outputs": []
    },
    {
      "cell_type": "code",
      "metadata": {
        "id": "U_FbApDt02DK",
        "outputId": "cec3c710-f580-4873-a88a-3bfd714df2a9",
        "colab": {
          "base_uri": "https://localhost:8080/",
          "height": 1000
        }
      },
      "source": [
        "fig = plt.figure(figsize = (20,15))\n",
        "ax = fig.gca()\n",
        "assets_data.hist(ax=ax)"
      ],
      "execution_count": 188,
      "outputs": [
        {
          "output_type": "execute_result",
          "data": {
            "text/plain": [
              "array([[<matplotlib.axes._subplots.AxesSubplot object at 0x7f83386b3b38>,\n",
              "        <matplotlib.axes._subplots.AxesSubplot object at 0x7f8338363ba8>,\n",
              "        <matplotlib.axes._subplots.AxesSubplot object at 0x7f8338390f28>,\n",
              "        <matplotlib.axes._subplots.AxesSubplot object at 0x7f833834d2e8>],\n",
              "       [<matplotlib.axes._subplots.AxesSubplot object at 0x7f83382ff668>,\n",
              "        <matplotlib.axes._subplots.AxesSubplot object at 0x7f83382b4208>,\n",
              "        <matplotlib.axes._subplots.AxesSubplot object at 0x7f8338264588>,\n",
              "        <matplotlib.axes._subplots.AxesSubplot object at 0x7f83382978d0>],\n",
              "       [<matplotlib.axes._subplots.AxesSubplot object at 0x7f8338297940>,\n",
              "        <matplotlib.axes._subplots.AxesSubplot object at 0x7f83381fdfd0>,\n",
              "        <matplotlib.axes._subplots.AxesSubplot object at 0x7f83381bc3c8>,\n",
              "        <matplotlib.axes._subplots.AxesSubplot object at 0x7f833816e748>],\n",
              "       [<matplotlib.axes._subplots.AxesSubplot object at 0x7f833811dac8>,\n",
              "        <matplotlib.axes._subplots.AxesSubplot object at 0x7f8338152e48>,\n",
              "        <matplotlib.axes._subplots.AxesSubplot object at 0x7f833810f208>,\n",
              "        <matplotlib.axes._subplots.AxesSubplot object at 0x7f83380c0588>],\n",
              "       [<matplotlib.axes._subplots.AxesSubplot object at 0x7f8338073908>,\n",
              "        <matplotlib.axes._subplots.AxesSubplot object at 0x7f8338024c88>,\n",
              "        <matplotlib.axes._subplots.AxesSubplot object at 0x7f8337fd9fd0>,\n",
              "        <matplotlib.axes._subplots.AxesSubplot object at 0x7f83380173c8>]],\n",
              "      dtype=object)"
            ]
          },
          "metadata": {
            "tags": []
          },
          "execution_count": 188
        },
        {
          "output_type": "display_data",
          "data": {
            "image/png": "[encoded data removed]",
            "text/plain": [
              "<Figure size 1440x1080 with 20 Axes>"
            ]
          },
          "metadata": {
            "tags": [],
            "needs_background": "light"
          }
        }
      ]
    },
    {
      "cell_type": "code",
      "metadata": {
        "id": "DUfF49uUJnp0",
        "outputId": "e7de4ceb-b194-4da0-fec7-6f0b8741fba4",
        "colab": {
          "base_uri": "https://localhost:8080/",
          "height": 85
        }
      },
      "source": [
        "assets_data.columns"
      ],
      "execution_count": 20,
      "outputs": [
        {
          "output_type": "execute_result",
          "data": {
            "text/plain": [
              "Index(['ASSET_ID', 'NextMaintenanceDay', 'Recency', 'RecencyCluster',\n",
              "       'Frequency', 'FrequencyCluster', 'OverallScore', 'Segment', 'DayDiff',\n",
              "       'DayDiff2', 'DayDiff3', 'DayDiffMean', 'DayDiffStd'],\n",
              "      dtype='object')"
            ]
          },
          "metadata": {
            "tags": []
          },
          "execution_count": 20
        }
      ]
    },
    {
      "cell_type": "code",
      "metadata": {
        "id": "jNC3zXn8JJ7C",
        "outputId": "eaba15d8-d29e-4af7-82e1-03ec7e176ce2",
        "colab": {
          "base_uri": "https://localhost:8080/",
          "height": 893
        }
      },
      "source": [
        "corr = assets_data[['ASSET_ID', 'NextMaintenanceDay', 'Recency', 'RecencyCluster',\n",
        "       'Frequency', 'FrequencyCluster', 'OverallScore', 'Segment', 'DayDiff',\n",
        "       'DayDiff2', 'DayDiff3', 'DayDiffMean', 'DayDiffStd']].corr()\n",
        "plt.figure(figsize = (30,20))\n",
        "sns.heatmap(corr, annot = True, linewidths=0.2, fmt=\".2f\")"
      ],
      "execution_count": 21,
      "outputs": [
        {
          "output_type": "execute_result",
          "data": {
            "text/plain": [
              "<matplotlib.axes._subplots.AxesSubplot at 0x7ff59a9bb5c0>"
            ]
          },
          "metadata": {
            "tags": []
          },
          "execution_count": 21
        },
        {
          "output_type": "display_data",
          "data": {
            "image/png": "[encoded data removed]",
            "text/plain": [
              "<Figure size 2160x1440 with 2 Axes>"
            ]
          },
          "metadata": {
            "tags": [],
            "needs_background": "light"
          }
        }
      ]
    },
    {
      "cell_type": "code",
      "metadata": {
        "id": "A-zEdJ24Vx07"
      },
      "source": [
        "#add the categorical feature columns\n",
        "assets_data_cat_with_feature = pd.merge(assets_data, mntnc_data[['ASSET_ID', 'ASSET_TYPE', 'ASSET_CLASSIFICATION', 'MANUFACTURER_NAME', 'MODEL_NUMBER']], on='ASSET_ID')\n",
        "#drop duplicate after join\n",
        "assets_data_cat_with_feature = assets_data_cat_with_feature.drop_duplicates()\n",
        "#https://towardsdatascience.com/categorical-encoding-using-label-encoding-and-one-hot-encoder-911ef77fb5bd\n"
      ],
      "execution_count": 58,
      "outputs": []
    },
    {
      "cell_type": "code",
      "metadata": {
        "id": "S8wYi6gYLWS8",
        "outputId": "3a8622df-0b6f-4e7c-d0e5-cfe682f032d7",
        "colab": {
          "base_uri": "https://localhost:8080/",
          "height": 326
        }
      },
      "source": [
        "assets_data_cat_with_feature.head()"
      ],
      "execution_count": 52,
      "outputs": [
        {
          "output_type": "execute_result",
          "data": {
            "text/html": [
              "<div>\n",
              "<style scoped>\n",
              "    .dataframe tbody tr th:only-of-type {\n",
              "        vertical-align: middle;\n",
              "    }\n",
              "\n",
              "    .dataframe tbody tr th {\n",
              "        vertical-align: top;\n",
              "    }\n",
              "\n",
              "    .dataframe thead th {\n",
              "        text-align: right;\n",
              "    }\n",
              "</style>\n",
              "<table border=\"1\" class=\"dataframe\">\n",
              "  <thead>\n",
              "    <tr style=\"text-align: right;\">\n",
              "      <th></th>\n",
              "      <th>ASSET_ID</th>\n",
              "      <th>NextMaintenanceDay</th>\n",
              "      <th>Recency</th>\n",
              "      <th>RecencyCluster</th>\n",
              "      <th>Frequency</th>\n",
              "      <th>FrequencyCluster</th>\n",
              "      <th>OverallScore</th>\n",
              "      <th>Segment</th>\n",
              "      <th>DayDiff</th>\n",
              "      <th>DayDiff2</th>\n",
              "      <th>DayDiff3</th>\n",
              "      <th>DayDiffMean</th>\n",
              "      <th>DayDiffStd</th>\n",
              "      <th>ASSET_TYPE</th>\n",
              "      <th>ASSET_CLASSIFICATION</th>\n",
              "      <th>MANUFACTURER_NAME</th>\n",
              "      <th>MODEL_NUMBER</th>\n",
              "    </tr>\n",
              "  </thead>\n",
              "  <tbody>\n",
              "    <tr>\n",
              "      <th>0</th>\n",
              "      <td>7267</td>\n",
              "      <td>132.0</td>\n",
              "      <td>3</td>\n",
              "      <td>3</td>\n",
              "      <td>4</td>\n",
              "      <td>0</td>\n",
              "      <td>3</td>\n",
              "      <td>Mid-Maintenance</td>\n",
              "      <td>3.0</td>\n",
              "      <td>4.0</td>\n",
              "      <td>39.0</td>\n",
              "      <td>13.000000</td>\n",
              "      <td>19.078784</td>\n",
              "      <td>Chiller Air Cooled</td>\n",
              "      <td>Mechanical</td>\n",
              "      <td>TRANE</td>\n",
              "      <td>RTAC-2504-UR04-UAFN-L1WY-1TDC-</td>\n",
              "    </tr>\n",
              "    <tr>\n",
              "      <th>5</th>\n",
              "      <td>7376</td>\n",
              "      <td>41.0</td>\n",
              "      <td>2</td>\n",
              "      <td>3</td>\n",
              "      <td>4</td>\n",
              "      <td>0</td>\n",
              "      <td>3</td>\n",
              "      <td>Mid-Maintenance</td>\n",
              "      <td>14.0</td>\n",
              "      <td>23.0</td>\n",
              "      <td>729.0</td>\n",
              "      <td>243.000000</td>\n",
              "      <td>400.977555</td>\n",
              "      <td>UPS</td>\n",
              "      <td>Electrical</td>\n",
              "      <td>EMERSON</td>\n",
              "      <td>10B14637G1C</td>\n",
              "    </tr>\n",
              "    <tr>\n",
              "      <th>10</th>\n",
              "      <td>7299</td>\n",
              "      <td>8.0</td>\n",
              "      <td>0</td>\n",
              "      <td>3</td>\n",
              "      <td>4</td>\n",
              "      <td>0</td>\n",
              "      <td>3</td>\n",
              "      <td>Mid-Maintenance</td>\n",
              "      <td>16.0</td>\n",
              "      <td>23.0</td>\n",
              "      <td>548.0</td>\n",
              "      <td>182.666667</td>\n",
              "      <td>296.503513</td>\n",
              "      <td>Generator</td>\n",
              "      <td>Electrical</td>\n",
              "      <td>CUMMINS</td>\n",
              "      <td>X07G306597</td>\n",
              "    </tr>\n",
              "    <tr>\n",
              "      <th>17</th>\n",
              "      <td>1667</td>\n",
              "      <td>999.0</td>\n",
              "      <td>0</td>\n",
              "      <td>3</td>\n",
              "      <td>4</td>\n",
              "      <td>0</td>\n",
              "      <td>3</td>\n",
              "      <td>Mid-Maintenance</td>\n",
              "      <td>4.0</td>\n",
              "      <td>5.0</td>\n",
              "      <td>34.0</td>\n",
              "      <td>11.333333</td>\n",
              "      <td>15.373137</td>\n",
              "      <td>CRAC</td>\n",
              "      <td>Mechanical</td>\n",
              "      <td>EMERSON</td>\n",
              "      <td>P2080UC</td>\n",
              "    </tr>\n",
              "    <tr>\n",
              "      <th>21</th>\n",
              "      <td>1669</td>\n",
              "      <td>999.0</td>\n",
              "      <td>0</td>\n",
              "      <td>3</td>\n",
              "      <td>4</td>\n",
              "      <td>0</td>\n",
              "      <td>3</td>\n",
              "      <td>Mid-Maintenance</td>\n",
              "      <td>4.0</td>\n",
              "      <td>5.0</td>\n",
              "      <td>34.0</td>\n",
              "      <td>11.333333</td>\n",
              "      <td>15.373137</td>\n",
              "      <td>CRAC</td>\n",
              "      <td>Mechanical</td>\n",
              "      <td>EMERSON</td>\n",
              "      <td>P3200DC</td>\n",
              "    </tr>\n",
              "  </tbody>\n",
              "</table>\n",
              "</div>"
            ],
            "text/plain": [
              "    ASSET_ID  ...                    MODEL_NUMBER\n",
              "0       7267  ...  RTAC-2504-UR04-UAFN-L1WY-1TDC-\n",
              "5       7376  ...                     10B14637G1C\n",
              "10      7299  ...                      X07G306597\n",
              "17      1667  ...                         P2080UC\n",
              "21      1669  ...                         P3200DC\n",
              "\n",
              "[5 rows x 17 columns]"
            ]
          },
          "metadata": {
            "tags": []
          },
          "execution_count": 52
        }
      ]
    },
    {
      "cell_type": "code",
      "metadata": {
        "id": "6b4NYOKMLv7s"
      },
      "source": [
        "assets_data_cat_with_feature = assets_data_cat_with_feature.fillna('UNKNOWN')"
      ],
      "execution_count": 59,
      "outputs": []
    },
    {
      "cell_type": "code",
      "metadata": {
        "id": "szEeZAIUMdST",
        "outputId": "f9b6dcb6-7676-441f-c993-06ee38714099",
        "colab": {
          "base_uri": "https://localhost:8080/",
          "height": 34
        }
      },
      "source": [
        "assets_data_cat_with_feature.shape"
      ],
      "execution_count": 49,
      "outputs": [
        {
          "output_type": "execute_result",
          "data": {
            "text/plain": [
              "(1011, 17)"
            ]
          },
          "metadata": {
            "tags": []
          },
          "execution_count": 49
        }
      ]
    },
    {
      "cell_type": "code",
      "metadata": {
        "id": "JqrJNMYhXf4y"
      },
      "source": [
        "#create assets_data_class as a copy of assets_data_cat_with_feature before applying get_dummies\n",
        "assets_data_class = assets_data_cat_with_feature.copy()\n",
        "assets_data_class = pd.get_dummies(assets_data_class)"
      ],
      "execution_count": 60,
      "outputs": []
    },
    {
      "cell_type": "markdown",
      "metadata": {
        "id": "nUlOQ-W9LLpv"
      },
      "source": [
        "\n",
        "*   0–30: Maintenance that will occour in 0–30 days — Class name: 3\n",
        "*   30–90: Maintenance that will occour in 30–90 days — Class name: 2\n",
        "*   90–150: Maintenance that will occour in 90–150 days — Class name: 1\n",
        "*   ≥ 150: Maintenance that will occour in more than 150 days —Class name: 0"
      ]
    },
    {
      "cell_type": "code",
      "metadata": {
        "id": "LdenvRRVXpqq"
      },
      "source": [
        "#class assign\n",
        "assets_data_class['NextMaintenanceDayRange'] = 3\n",
        "assets_data_class.loc[assets_data_class.NextMaintenanceDay>30,'NextMaintenanceDayRange'] = 2\n",
        "assets_data_class.loc[assets_data_class.NextMaintenanceDay>90,'NextMaintenanceDayRange'] = 1\n",
        "assets_data_class.loc[assets_data_class.NextMaintenanceDay>150,'NextMaintenanceDayRange'] = 0"
      ],
      "execution_count": 40,
      "outputs": []
    },
    {
      "cell_type": "markdown",
      "metadata": {
        "id": "LKfix1wBponP"
      },
      "source": [
        "**Multi-Classification Model**"
      ]
    },
    {
      "cell_type": "code",
      "metadata": {
        "id": "DmZbXbdRMX4_",
        "outputId": "8dd9f725-42ac-490c-e6f3-ca8f8a124902",
        "colab": {
          "base_uri": "https://localhost:8080/",
          "height": 282
        }
      },
      "source": [
        "assets_data_class.NextMaintenanceDay.hist()"
      ],
      "execution_count": 64,
      "outputs": [
        {
          "output_type": "execute_result",
          "data": {
            "text/plain": [
              "<matplotlib.axes._subplots.AxesSubplot at 0x7ff58f10d940>"
            ]
          },
          "metadata": {
            "tags": []
          },
          "execution_count": 64
        },
        {
          "output_type": "display_data",
          "data": {
            "image/png": "[encoded data removed]",
            "text/plain": [
              "<Figure size 432x288 with 1 Axes>"
            ]
          },
          "metadata": {
            "tags": [],
            "needs_background": "light"
          }
        }
      ]
    },
    {
      "cell_type": "code",
      "metadata": {
        "id": "AkcpeTqpNfY2",
        "outputId": "aa2297a7-3bc7-4e78-f0c7-a31f4ca327d5",
        "colab": {
          "base_uri": "https://localhost:8080/",
          "height": 287
        }
      },
      "source": [
        "assets_data_class.head()"
      ],
      "execution_count": 69,
      "outputs": [
        {
          "output_type": "execute_result",
          "data": {
            "text/html": [
              "<div>\n",
              "<style scoped>\n",
              "    .dataframe tbody tr th:only-of-type {\n",
              "        vertical-align: middle;\n",
              "    }\n",
              "\n",
              "    .dataframe tbody tr th {\n",
              "        vertical-align: top;\n",
              "    }\n",
              "\n",
              "    .dataframe thead th {\n",
              "        text-align: right;\n",
              "    }\n",
              "</style>\n",
              "<table border=\"1\" class=\"dataframe\">\n",
              "  <thead>\n",
              "    <tr style=\"text-align: right;\">\n",
              "      <th></th>\n",
              "      <th>ASSET_ID</th>\n",
              "      <th>NextMaintenanceDay</th>\n",
              "      <th>Recency</th>\n",
              "      <th>RecencyCluster</th>\n",
              "      <th>Frequency</th>\n",
              "      <th>FrequencyCluster</th>\n",
              "      <th>OverallScore</th>\n",
              "      <th>DayDiff</th>\n",
              "      <th>DayDiff2</th>\n",
              "      <th>DayDiff3</th>\n",
              "      <th>DayDiffMean</th>\n",
              "      <th>DayDiffStd</th>\n",
              "      <th>Segment_High-Maintenance</th>\n",
              "      <th>Segment_Low-Maintenance</th>\n",
              "      <th>Segment_Mid-Maintenance</th>\n",
              "      <th>ASSET_TYPE_ATS</th>\n",
              "      <th>ASSET_TYPE_CRAC</th>\n",
              "      <th>ASSET_TYPE_CRAH</th>\n",
              "      <th>ASSET_TYPE_Centrifugal Pump</th>\n",
              "      <th>ASSET_TYPE_Chiller Air Cooled</th>\n",
              "      <th>ASSET_TYPE_Chiller Water Cooled</th>\n",
              "      <th>ASSET_TYPE_Cooling Plant</th>\n",
              "      <th>ASSET_TYPE_Cooling Tower</th>\n",
              "      <th>ASSET_TYPE_Early Smoke Detection</th>\n",
              "      <th>ASSET_TYPE_Fire Alarm</th>\n",
              "      <th>ASSET_TYPE_Fuel Distribution Pump</th>\n",
              "      <th>ASSET_TYPE_Fuel Polishing System</th>\n",
              "      <th>ASSET_TYPE_Fuel Storage Day Tank</th>\n",
              "      <th>ASSET_TYPE_Fuel Storage Tank</th>\n",
              "      <th>ASSET_TYPE_Fuel System Run Hour</th>\n",
              "      <th>ASSET_TYPE_Generator</th>\n",
              "      <th>ASSET_TYPE_Generator Paralleling Gear</th>\n",
              "      <th>ASSET_TYPE_Leak Detection</th>\n",
              "      <th>ASSET_TYPE_PDU</th>\n",
              "      <th>ASSET_TYPE_Rooftop Unit with Exhaust Fans</th>\n",
              "      <th>ASSET_TYPE_UPS</th>\n",
              "      <th>ASSET_TYPE_Utility</th>\n",
              "      <th>ASSET_CLASSIFICATION_Electrical</th>\n",
              "      <th>ASSET_CLASSIFICATION_Mechanical</th>\n",
              "      <th>MANUFACTURER_NAME_BAC</th>\n",
              "      <th>...</th>\n",
              "      <th>MODEL_NUMBER_CUSTOM</th>\n",
              "      <th>MODEL_NUMBER_CVHG1100</th>\n",
              "      <th>MODEL_NUMBER_D31A</th>\n",
              "      <th>MODEL_NUMBER_DTSC 200</th>\n",
              "      <th>MODEL_NUMBER_DTSC-200</th>\n",
              "      <th>MODEL_NUMBER_FenwalNet 2000ML</th>\n",
              "      <th>MODEL_NUMBER_GG4195</th>\n",
              "      <th>MODEL_NUMBER_GTA-50</th>\n",
              "      <th>MODEL_NUMBER_HIPULSE 500 kva</th>\n",
              "      <th>MODEL_NUMBER_HL4195</th>\n",
              "      <th>MODEL_NUMBER_KTA50G8</th>\n",
              "      <th>MODEL_NUMBER_KTA50GS8</th>\n",
              "      <th>MODEL_NUMBER_L13D02055</th>\n",
              "      <th>MODEL_NUMBER_L13D02060</th>\n",
              "      <th>MODEL_NUMBER_L18UC1020D03010CX</th>\n",
              "      <th>MODEL_NUMBER_L20EC1000D03120PX05</th>\n",
              "      <th>MODEL_NUMBER_LPL1150</th>\n",
              "      <th>MODEL_NUMBER_LPL1150 LPL1150  LPL1150 LPL11</th>\n",
              "      <th>MODEL_NUMBER_LVSI804T1</th>\n",
              "      <th>MODEL_NUMBER_Liebert NXA 800</th>\n",
              "      <th>MODEL_NUMBER_Liebert NXL 800</th>\n",
              "      <th>MODEL_NUMBER_NSX100H</th>\n",
              "      <th>MODEL_NUMBER_P2080UC</th>\n",
              "      <th>MODEL_NUMBER_P3200DC</th>\n",
              "      <th>MODEL_NUMBER_PH081DC</th>\n",
              "      <th>MODEL_NUMBER_PH161DC</th>\n",
              "      <th>MODEL_NUMBER_PU4500</th>\n",
              "      <th>MODEL_NUMBER_QSK60-G6_2000_KW_13kV</th>\n",
              "      <th>MODEL_NUMBER_QSK60G4</th>\n",
              "      <th>MODEL_NUMBER_RTAC-2504-UR04-UAFN-L1WY-1TDC-</th>\n",
              "      <th>MODEL_NUMBER_S31213C-RMV</th>\n",
              "      <th>MODEL_NUMBER_SEB120.3EG07.F2ARMA.ES10PE.E10</th>\n",
              "      <th>MODEL_NUMBER_SR-5</th>\n",
              "      <th>MODEL_NUMBER_SR5</th>\n",
              "      <th>MODEL_NUMBER_TRANE / RTAC5004URONUAFNNITY2C</th>\n",
              "      <th>MODEL_NUMBER_U39MM991A0ARS44</th>\n",
              "      <th>MODEL_NUMBER_UNKNOWN</th>\n",
              "      <th>MODEL_NUMBER_UT-212-436</th>\n",
              "      <th>MODEL_NUMBER_VXI-360-4X</th>\n",
              "      <th>MODEL_NUMBER_X07G306597</th>\n",
              "    </tr>\n",
              "  </thead>\n",
              "  <tbody>\n",
              "    <tr>\n",
              "      <th>0</th>\n",
              "      <td>7267</td>\n",
              "      <td>132.0</td>\n",
              "      <td>3</td>\n",
              "      <td>3</td>\n",
              "      <td>4</td>\n",
              "      <td>0</td>\n",
              "      <td>3</td>\n",
              "      <td>3.0</td>\n",
              "      <td>4.0</td>\n",
              "      <td>39.0</td>\n",
              "      <td>13.000000</td>\n",
              "      <td>19.078784</td>\n",
              "      <td>0</td>\n",
              "      <td>0</td>\n",
              "      <td>1</td>\n",
              "      <td>0</td>\n",
              "      <td>0</td>\n",
              "      <td>0</td>\n",
              "      <td>0</td>\n",
              "      <td>1</td>\n",
              "      <td>0</td>\n",
              "      <td>0</td>\n",
              "      <td>0</td>\n",
              "      <td>0</td>\n",
              "      <td>0</td>\n",
              "      <td>0</td>\n",
              "      <td>0</td>\n",
              "      <td>0</td>\n",
              "      <td>0</td>\n",
              "      <td>0</td>\n",
              "      <td>0</td>\n",
              "      <td>0</td>\n",
              "      <td>0</td>\n",
              "      <td>0</td>\n",
              "      <td>0</td>\n",
              "      <td>0</td>\n",
              "      <td>0</td>\n",
              "      <td>0</td>\n",
              "      <td>1</td>\n",
              "      <td>0</td>\n",
              "      <td>...</td>\n",
              "      <td>0</td>\n",
              "      <td>0</td>\n",
              "      <td>0</td>\n",
              "      <td>0</td>\n",
              "      <td>0</td>\n",
              "      <td>0</td>\n",
              "      <td>0</td>\n",
              "      <td>0</td>\n",
              "      <td>0</td>\n",
              "      <td>0</td>\n",
              "      <td>0</td>\n",
              "      <td>0</td>\n",
              "      <td>0</td>\n",
              "      <td>0</td>\n",
              "      <td>0</td>\n",
              "      <td>0</td>\n",
              "      <td>0</td>\n",
              "      <td>0</td>\n",
              "      <td>0</td>\n",
              "      <td>0</td>\n",
              "      <td>0</td>\n",
              "      <td>0</td>\n",
              "      <td>0</td>\n",
              "      <td>0</td>\n",
              "      <td>0</td>\n",
              "      <td>0</td>\n",
              "      <td>0</td>\n",
              "      <td>0</td>\n",
              "      <td>0</td>\n",
              "      <td>1</td>\n",
              "      <td>0</td>\n",
              "      <td>0</td>\n",
              "      <td>0</td>\n",
              "      <td>0</td>\n",
              "      <td>0</td>\n",
              "      <td>0</td>\n",
              "      <td>0</td>\n",
              "      <td>0</td>\n",
              "      <td>0</td>\n",
              "      <td>0</td>\n",
              "    </tr>\n",
              "    <tr>\n",
              "      <th>5</th>\n",
              "      <td>7376</td>\n",
              "      <td>41.0</td>\n",
              "      <td>2</td>\n",
              "      <td>3</td>\n",
              "      <td>4</td>\n",
              "      <td>0</td>\n",
              "      <td>3</td>\n",
              "      <td>14.0</td>\n",
              "      <td>23.0</td>\n",
              "      <td>729.0</td>\n",
              "      <td>243.000000</td>\n",
              "      <td>400.977555</td>\n",
              "      <td>0</td>\n",
              "      <td>0</td>\n",
              "      <td>1</td>\n",
              "      <td>0</td>\n",
              "      <td>0</td>\n",
              "      <td>0</td>\n",
              "      <td>0</td>\n",
              "      <td>0</td>\n",
              "      <td>0</td>\n",
              "      <td>0</td>\n",
              "      <td>0</td>\n",
              "      <td>0</td>\n",
              "      <td>0</td>\n",
              "      <td>0</td>\n",
              "      <td>0</td>\n",
              "      <td>0</td>\n",
              "      <td>0</td>\n",
              "      <td>0</td>\n",
              "      <td>0</td>\n",
              "      <td>0</td>\n",
              "      <td>0</td>\n",
              "      <td>0</td>\n",
              "      <td>0</td>\n",
              "      <td>1</td>\n",
              "      <td>0</td>\n",
              "      <td>1</td>\n",
              "      <td>0</td>\n",
              "      <td>0</td>\n",
              "      <td>...</td>\n",
              "      <td>0</td>\n",
              "      <td>0</td>\n",
              "      <td>0</td>\n",
              "      <td>0</td>\n",
              "      <td>0</td>\n",
              "      <td>0</td>\n",
              "      <td>0</td>\n",
              "      <td>0</td>\n",
              "      <td>0</td>\n",
              "      <td>0</td>\n",
              "      <td>0</td>\n",
              "      <td>0</td>\n",
              "      <td>0</td>\n",
              "      <td>0</td>\n",
              "      <td>0</td>\n",
              "      <td>0</td>\n",
              "      <td>0</td>\n",
              "      <td>0</td>\n",
              "      <td>0</td>\n",
              "      <td>0</td>\n",
              "      <td>0</td>\n",
              "      <td>0</td>\n",
              "      <td>0</td>\n",
              "      <td>0</td>\n",
              "      <td>0</td>\n",
              "      <td>0</td>\n",
              "      <td>0</td>\n",
              "      <td>0</td>\n",
              "      <td>0</td>\n",
              "      <td>0</td>\n",
              "      <td>0</td>\n",
              "      <td>0</td>\n",
              "      <td>0</td>\n",
              "      <td>0</td>\n",
              "      <td>0</td>\n",
              "      <td>0</td>\n",
              "      <td>0</td>\n",
              "      <td>0</td>\n",
              "      <td>0</td>\n",
              "      <td>0</td>\n",
              "    </tr>\n",
              "    <tr>\n",
              "      <th>10</th>\n",
              "      <td>7299</td>\n",
              "      <td>8.0</td>\n",
              "      <td>0</td>\n",
              "      <td>3</td>\n",
              "      <td>4</td>\n",
              "      <td>0</td>\n",
              "      <td>3</td>\n",
              "      <td>16.0</td>\n",
              "      <td>23.0</td>\n",
              "      <td>548.0</td>\n",
              "      <td>182.666667</td>\n",
              "      <td>296.503513</td>\n",
              "      <td>0</td>\n",
              "      <td>0</td>\n",
              "      <td>1</td>\n",
              "      <td>0</td>\n",
              "      <td>0</td>\n",
              "      <td>0</td>\n",
              "      <td>0</td>\n",
              "      <td>0</td>\n",
              "      <td>0</td>\n",
              "      <td>0</td>\n",
              "      <td>0</td>\n",
              "      <td>0</td>\n",
              "      <td>0</td>\n",
              "      <td>0</td>\n",
              "      <td>0</td>\n",
              "      <td>0</td>\n",
              "      <td>0</td>\n",
              "      <td>0</td>\n",
              "      <td>1</td>\n",
              "      <td>0</td>\n",
              "      <td>0</td>\n",
              "      <td>0</td>\n",
              "      <td>0</td>\n",
              "      <td>0</td>\n",
              "      <td>0</td>\n",
              "      <td>1</td>\n",
              "      <td>0</td>\n",
              "      <td>0</td>\n",
              "      <td>...</td>\n",
              "      <td>0</td>\n",
              "      <td>0</td>\n",
              "      <td>0</td>\n",
              "      <td>0</td>\n",
              "      <td>0</td>\n",
              "      <td>0</td>\n",
              "      <td>0</td>\n",
              "      <td>0</td>\n",
              "      <td>0</td>\n",
              "      <td>0</td>\n",
              "      <td>0</td>\n",
              "      <td>0</td>\n",
              "      <td>0</td>\n",
              "      <td>0</td>\n",
              "      <td>0</td>\n",
              "      <td>0</td>\n",
              "      <td>0</td>\n",
              "      <td>0</td>\n",
              "      <td>0</td>\n",
              "      <td>0</td>\n",
              "      <td>0</td>\n",
              "      <td>0</td>\n",
              "      <td>0</td>\n",
              "      <td>0</td>\n",
              "      <td>0</td>\n",
              "      <td>0</td>\n",
              "      <td>0</td>\n",
              "      <td>0</td>\n",
              "      <td>0</td>\n",
              "      <td>0</td>\n",
              "      <td>0</td>\n",
              "      <td>0</td>\n",
              "      <td>0</td>\n",
              "      <td>0</td>\n",
              "      <td>0</td>\n",
              "      <td>0</td>\n",
              "      <td>0</td>\n",
              "      <td>0</td>\n",
              "      <td>0</td>\n",
              "      <td>1</td>\n",
              "    </tr>\n",
              "    <tr>\n",
              "      <th>17</th>\n",
              "      <td>1667</td>\n",
              "      <td>999.0</td>\n",
              "      <td>0</td>\n",
              "      <td>3</td>\n",
              "      <td>4</td>\n",
              "      <td>0</td>\n",
              "      <td>3</td>\n",
              "      <td>4.0</td>\n",
              "      <td>5.0</td>\n",
              "      <td>34.0</td>\n",
              "      <td>11.333333</td>\n",
              "      <td>15.373137</td>\n",
              "      <td>0</td>\n",
              "      <td>0</td>\n",
              "      <td>1</td>\n",
              "      <td>0</td>\n",
              "      <td>1</td>\n",
              "      <td>0</td>\n",
              "      <td>0</td>\n",
              "      <td>0</td>\n",
              "      <td>0</td>\n",
              "      <td>0</td>\n",
              "      <td>0</td>\n",
              "      <td>0</td>\n",
              "      <td>0</td>\n",
              "      <td>0</td>\n",
              "      <td>0</td>\n",
              "      <td>0</td>\n",
              "      <td>0</td>\n",
              "      <td>0</td>\n",
              "      <td>0</td>\n",
              "      <td>0</td>\n",
              "      <td>0</td>\n",
              "      <td>0</td>\n",
              "      <td>0</td>\n",
              "      <td>0</td>\n",
              "      <td>0</td>\n",
              "      <td>0</td>\n",
              "      <td>1</td>\n",
              "      <td>0</td>\n",
              "      <td>...</td>\n",
              "      <td>0</td>\n",
              "      <td>0</td>\n",
              "      <td>0</td>\n",
              "      <td>0</td>\n",
              "      <td>0</td>\n",
              "      <td>0</td>\n",
              "      <td>0</td>\n",
              "      <td>0</td>\n",
              "      <td>0</td>\n",
              "      <td>0</td>\n",
              "      <td>0</td>\n",
              "      <td>0</td>\n",
              "      <td>0</td>\n",
              "      <td>0</td>\n",
              "      <td>0</td>\n",
              "      <td>0</td>\n",
              "      <td>0</td>\n",
              "      <td>0</td>\n",
              "      <td>0</td>\n",
              "      <td>0</td>\n",
              "      <td>0</td>\n",
              "      <td>0</td>\n",
              "      <td>1</td>\n",
              "      <td>0</td>\n",
              "      <td>0</td>\n",
              "      <td>0</td>\n",
              "      <td>0</td>\n",
              "      <td>0</td>\n",
              "      <td>0</td>\n",
              "      <td>0</td>\n",
              "      <td>0</td>\n",
              "      <td>0</td>\n",
              "      <td>0</td>\n",
              "      <td>0</td>\n",
              "      <td>0</td>\n",
              "      <td>0</td>\n",
              "      <td>0</td>\n",
              "      <td>0</td>\n",
              "      <td>0</td>\n",
              "      <td>0</td>\n",
              "    </tr>\n",
              "    <tr>\n",
              "      <th>21</th>\n",
              "      <td>1669</td>\n",
              "      <td>999.0</td>\n",
              "      <td>0</td>\n",
              "      <td>3</td>\n",
              "      <td>4</td>\n",
              "      <td>0</td>\n",
              "      <td>3</td>\n",
              "      <td>4.0</td>\n",
              "      <td>5.0</td>\n",
              "      <td>34.0</td>\n",
              "      <td>11.333333</td>\n",
              "      <td>15.373137</td>\n",
              "      <td>0</td>\n",
              "      <td>0</td>\n",
              "      <td>1</td>\n",
              "      <td>0</td>\n",
              "      <td>1</td>\n",
              "      <td>0</td>\n",
              "      <td>0</td>\n",
              "      <td>0</td>\n",
              "      <td>0</td>\n",
              "      <td>0</td>\n",
              "      <td>0</td>\n",
              "      <td>0</td>\n",
              "      <td>0</td>\n",
              "      <td>0</td>\n",
              "      <td>0</td>\n",
              "      <td>0</td>\n",
              "      <td>0</td>\n",
              "      <td>0</td>\n",
              "      <td>0</td>\n",
              "      <td>0</td>\n",
              "      <td>0</td>\n",
              "      <td>0</td>\n",
              "      <td>0</td>\n",
              "      <td>0</td>\n",
              "      <td>0</td>\n",
              "      <td>0</td>\n",
              "      <td>1</td>\n",
              "      <td>0</td>\n",
              "      <td>...</td>\n",
              "      <td>0</td>\n",
              "      <td>0</td>\n",
              "      <td>0</td>\n",
              "      <td>0</td>\n",
              "      <td>0</td>\n",
              "      <td>0</td>\n",
              "      <td>0</td>\n",
              "      <td>0</td>\n",
              "      <td>0</td>\n",
              "      <td>0</td>\n",
              "      <td>0</td>\n",
              "      <td>0</td>\n",
              "      <td>0</td>\n",
              "      <td>0</td>\n",
              "      <td>0</td>\n",
              "      <td>0</td>\n",
              "      <td>0</td>\n",
              "      <td>0</td>\n",
              "      <td>0</td>\n",
              "      <td>0</td>\n",
              "      <td>0</td>\n",
              "      <td>0</td>\n",
              "      <td>0</td>\n",
              "      <td>1</td>\n",
              "      <td>0</td>\n",
              "      <td>0</td>\n",
              "      <td>0</td>\n",
              "      <td>0</td>\n",
              "      <td>0</td>\n",
              "      <td>0</td>\n",
              "      <td>0</td>\n",
              "      <td>0</td>\n",
              "      <td>0</td>\n",
              "      <td>0</td>\n",
              "      <td>0</td>\n",
              "      <td>0</td>\n",
              "      <td>0</td>\n",
              "      <td>0</td>\n",
              "      <td>0</td>\n",
              "      <td>0</td>\n",
              "    </tr>\n",
              "  </tbody>\n",
              "</table>\n",
              "<p>5 rows × 141 columns</p>\n",
              "</div>"
            ],
            "text/plain": [
              "    ASSET_ID  ...  MODEL_NUMBER_X07G306597\n",
              "0       7267  ...                        0\n",
              "5       7376  ...                        0\n",
              "10      7299  ...                        1\n",
              "17      1667  ...                        0\n",
              "21      1669  ...                        0\n",
              "\n",
              "[5 rows x 141 columns]"
            ]
          },
          "metadata": {
            "tags": []
          },
          "execution_count": 69
        }
      ]
    },
    {
      "cell_type": "code",
      "metadata": {
        "id": "eItpxroN92sr"
      },
      "source": [
        "from sklearn.svm import SVC\n",
        "from sklearn.multioutput import MultiOutputClassifier\n",
        "from sklearn.ensemble import GradientBoostingClassifier\n",
        "from sklearn.tree import DecisionTreeClassifier\n",
        "from sklearn.neighbors import KNeighborsClassifier\n",
        "from sklearn.naive_bayes import GaussianNB\n",
        "from sklearn.ensemble import RandomForestClassifier\n",
        "from sklearn.linear_model import LogisticRegression\n",
        "import xgboost as xgb\n",
        "from sklearn.model_selection import KFold, cross_val_score, train_test_split\n",
        "\n",
        "from sklearn.metrics import classification_report,confusion_matrix"
      ],
      "execution_count": 41,
      "outputs": []
    },
    {
      "cell_type": "code",
      "metadata": {
        "id": "6aMPitRAw7Ac"
      },
      "source": [
        "#train & test split\n",
        "assets_data_class = assets_data_class.drop('NextMaintenanceDay',axis=1)\n",
        "X, y = assets_data_class.drop('NextMaintenanceDayRange',axis=1), assets_data_class.NextMaintenanceDayRange\n",
        "X_train, X_test, y_train, y_test = train_test_split(X, y, test_size=0.2, random_state=44)"
      ],
      "execution_count": 42,
      "outputs": []
    },
    {
      "cell_type": "code",
      "metadata": {
        "id": "WMuxORR-xVBl",
        "outputId": "7db7168a-b896-4b0f-c2be-f1536d68c972",
        "colab": {
          "base_uri": "https://localhost:8080/",
          "height": 34
        }
      },
      "source": [
        "y_test.shape"
      ],
      "execution_count": 46,
      "outputs": [
        {
          "output_type": "execute_result",
          "data": {
            "text/plain": [
              "(203,)"
            ]
          },
          "metadata": {
            "tags": []
          },
          "execution_count": 46
        }
      ]
    },
    {
      "cell_type": "code",
      "metadata": {
        "id": "ugg_CFVT9Djn",
        "outputId": "a3d4f02e-38bc-42a9-8378-105bfb93e3a4",
        "colab": {
          "base_uri": "https://localhost:8080/",
          "height": 136
        }
      },
      "source": [
        "#create an array of models\n",
        "models = []\n",
        "models.append((\"LR\",LogisticRegression()))\n",
        "models.append((\"NB\",GaussianNB()))\n",
        "models.append((\"RF\",RandomForestClassifier()))\n",
        "models.append((\"SVC\",SVC()))\n",
        "models.append((\"Dtree\",DecisionTreeClassifier()))\n",
        "models.append((\"XGB\",xgb.XGBClassifier()))\n",
        "models.append((\"KNN\",KNeighborsClassifier()))\n",
        "\n",
        "#measure the accuracy \n",
        "for name,model in models:\n",
        "    kfold = KFold(n_splits=2, random_state=22)\n",
        "    cv_result = cross_val_score(model,X_train,y_train, cv = kfold,scoring = \"accuracy\")\n",
        "    print(name, cv_result)"
      ],
      "execution_count": 29,
      "outputs": [
        {
          "output_type": "stream",
          "text": [
            "LR [0.7029703  0.58663366]\n",
            "NB [0.42821782 0.51980198]\n",
            "RF [0.84653465 0.83168317]\n",
            "SVC [0.37871287 0.45792079]\n",
            "Dtree [0.85148515 0.80940594]\n",
            "XGB [0.87871287 0.81683168]\n",
            "KNN [0.77970297 0.79455446]\n"
          ],
          "name": "stdout"
        }
      ]
    },
    {
      "cell_type": "code",
      "metadata": {
        "id": "9xu338wv_vUw",
        "outputId": "dbf7fa5d-7ae2-46fb-e008-af133e4abb64",
        "colab": {
          "base_uri": "https://localhost:8080/",
          "height": 51
        }
      },
      "source": [
        "xgb_model = xgb.XGBClassifier().fit(X_train, y_train)\n",
        "\n",
        "print('Accuracy of XGB classifier on training set: {:.2f}'\n",
        "       .format(xgb_model.score(X_train, y_train)))\n",
        "print('Accuracy of XGB classifier on test set: {:.2f}'\n",
        "       .format(xgb_model.score(X_test[X_train.columns], y_test)))"
      ],
      "execution_count": 30,
      "outputs": [
        {
          "output_type": "stream",
          "text": [
            "Accuracy of XGB classifier on training set: 0.94\n",
            "Accuracy of XGB classifier on test set: 0.88\n"
          ],
          "name": "stdout"
        }
      ]
    },
    {
      "cell_type": "code",
      "metadata": {
        "id": "LmHPp1oNAj9h"
      },
      "source": [
        ""
      ],
      "execution_count": null,
      "outputs": []
    },
    {
      "cell_type": "code",
      "metadata": {
        "id": "BKlI1FTlAMON"
      },
      "source": [
        "y_pred = xgb_model.predict(X_test)"
      ],
      "execution_count": 31,
      "outputs": []
    },
    {
      "cell_type": "code",
      "metadata": {
        "id": "EAAo0G4XAUma",
        "outputId": "aa105991-1c5f-4611-cdb0-1d42d1143b63",
        "colab": {
          "base_uri": "https://localhost:8080/",
          "height": 204
        }
      },
      "source": [
        "print(classification_report(y_test, y_pred))"
      ],
      "execution_count": 32,
      "outputs": [
        {
          "output_type": "stream",
          "text": [
            "              precision    recall  f1-score   support\n",
            "\n",
            "           0       0.92      0.90      0.91        89\n",
            "           1       0.89      0.47      0.62        17\n",
            "           2       0.83      0.90      0.86        58\n",
            "           3       0.86      0.97      0.92        39\n",
            "\n",
            "    accuracy                           0.88       203\n",
            "   macro avg       0.87      0.81      0.82       203\n",
            "weighted avg       0.88      0.88      0.87       203\n",
            "\n"
          ],
          "name": "stdout"
        }
      ]
    },
    {
      "cell_type": "markdown",
      "metadata": {
        "id": "Z7YlAH-PpddF"
      },
      "source": [
        "**Hyperparameter Tuning.**"
      ]
    },
    {
      "cell_type": "code",
      "metadata": {
        "id": "T2oyccWUpeUh",
        "outputId": "dbe49d9b-9bbc-4956-a0de-a1132c5b9fdb",
        "colab": {
          "base_uri": "https://localhost:8080/",
          "height": 34
        }
      },
      "source": [
        "from sklearn.model_selection import GridSearchCV\n",
        "\n",
        "param_test1 = {\n",
        " 'max_depth':range(3,10,2),\n",
        " 'min_child_weight':range(1,6,2)\n",
        "}\n",
        "gsearch1 = GridSearchCV(estimator = xgb.XGBClassifier(), \n",
        "param_grid = param_test1, scoring='accuracy',n_jobs=-1,iid=False, cv=2)\n",
        "gsearch1.fit(X_train,y_train)\n",
        "gsearch1.best_params_, gsearch1.best_score_"
      ],
      "execution_count": 33,
      "outputs": [
        {
          "output_type": "execute_result",
          "data": {
            "text/plain": [
              "({'max_depth': 7, 'min_child_weight': 1}, 0.8564356435643564)"
            ]
          },
          "metadata": {
            "tags": []
          },
          "execution_count": 33
        }
      ]
    },
    {
      "cell_type": "code",
      "metadata": {
        "id": "puts_FvPv5gI",
        "outputId": "bb0415ab-850e-4287-9a40-78c0a3e69677",
        "colab": {
          "base_uri": "https://localhost:8080/",
          "height": 51
        }
      },
      "source": [
        "xgb_model = xgb.XGBClassifier(max_depth=7, min_child_weight=1).fit(X_train, y_train)\n",
        "\n",
        "print('Accuracy of XGB classifier on training set: {:.2f}'\n",
        "       .format(xgb_model.score(X_train, y_train)))\n",
        "print('Accuracy of XGB classifier on test set: {:.2f}'\n",
        "       .format(xgb_model.score(X_test[X_train.columns], y_test)))"
      ],
      "execution_count": 34,
      "outputs": [
        {
          "output_type": "stream",
          "text": [
            "Accuracy of XGB classifier on training set: 1.00\n",
            "Accuracy of XGB classifier on test set: 0.91\n"
          ],
          "name": "stdout"
        }
      ]
    },
    {
      "cell_type": "code",
      "metadata": {
        "id": "bUanYShqwAZR"
      },
      "source": [
        "y_pred = xgb_model.predict(X_test)"
      ],
      "execution_count": 35,
      "outputs": []
    },
    {
      "cell_type": "code",
      "metadata": {
        "id": "1jbj7jaEwHG3",
        "outputId": "6abf5c52-a131-4440-b43c-01050fe452ae",
        "colab": {
          "base_uri": "https://localhost:8080/",
          "height": 204
        }
      },
      "source": [
        "print(classification_report(y_test, y_pred))"
      ],
      "execution_count": 37,
      "outputs": [
        {
          "output_type": "stream",
          "text": [
            "              precision    recall  f1-score   support\n",
            "\n",
            "           0       0.95      0.94      0.95        89\n",
            "           1       0.89      0.47      0.62        17\n",
            "           2       0.84      0.93      0.89        58\n",
            "           3       0.90      0.97      0.94        39\n",
            "\n",
            "    accuracy                           0.91       203\n",
            "   macro avg       0.90      0.83      0.85       203\n",
            "weighted avg       0.91      0.91      0.90       203\n",
            "\n"
          ],
          "name": "stdout"
        }
      ]
    }
  ]
}